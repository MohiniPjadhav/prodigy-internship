{
 "cells": [
  {
   "cell_type": "code",
   "execution_count": 1,
   "metadata": {},
   "outputs": [],
   "source": [
    "import pandas as pd\n",
    "from sklearn.linear_model import Lasso\n",
    "from sklearn.model_selection import train_test_split\n",
    "from sklearn.metrics import r2_score\n",
    "import joblib\n",
    "\n",
    "# Load the data\n",
    "data = pd.read_csv('train.csv')\n"
   ]
  },
  {
   "cell_type": "code",
   "execution_count": 12,
   "metadata": {},
   "outputs": [
    {
     "data": {
      "text/html": [
       "<div>\n",
       "<style scoped>\n",
       "    .dataframe tbody tr th:only-of-type {\n",
       "        vertical-align: middle;\n",
       "    }\n",
       "\n",
       "    .dataframe tbody tr th {\n",
       "        vertical-align: top;\n",
       "    }\n",
       "\n",
       "    .dataframe thead th {\n",
       "        text-align: right;\n",
       "    }\n",
       "</style>\n",
       "<table border=\"1\" class=\"dataframe\">\n",
       "  <thead>\n",
       "    <tr style=\"text-align: right;\">\n",
       "      <th></th>\n",
       "      <th>Id</th>\n",
       "      <th>MSSubClass</th>\n",
       "      <th>MSZoning</th>\n",
       "      <th>LotFrontage</th>\n",
       "      <th>LotArea</th>\n",
       "      <th>Street</th>\n",
       "      <th>Alley</th>\n",
       "      <th>LotShape</th>\n",
       "      <th>LandContour</th>\n",
       "      <th>Utilities</th>\n",
       "      <th>...</th>\n",
       "      <th>PoolQC</th>\n",
       "      <th>Fence</th>\n",
       "      <th>MiscFeature</th>\n",
       "      <th>MiscVal</th>\n",
       "      <th>MoSold</th>\n",
       "      <th>YrSold</th>\n",
       "      <th>SaleType</th>\n",
       "      <th>SaleCondition</th>\n",
       "      <th>SalePrice</th>\n",
       "      <th>TotalSF</th>\n",
       "    </tr>\n",
       "  </thead>\n",
       "  <tbody>\n",
       "    <tr>\n",
       "      <th>0</th>\n",
       "      <td>1</td>\n",
       "      <td>60</td>\n",
       "      <td>RL</td>\n",
       "      <td>65.0</td>\n",
       "      <td>8450</td>\n",
       "      <td>Pave</td>\n",
       "      <td>NaN</td>\n",
       "      <td>Reg</td>\n",
       "      <td>Lvl</td>\n",
       "      <td>AllPub</td>\n",
       "      <td>...</td>\n",
       "      <td>NaN</td>\n",
       "      <td>NaN</td>\n",
       "      <td>NaN</td>\n",
       "      <td>0</td>\n",
       "      <td>2</td>\n",
       "      <td>2008</td>\n",
       "      <td>WD</td>\n",
       "      <td>Normal</td>\n",
       "      <td>208500</td>\n",
       "      <td>2566</td>\n",
       "    </tr>\n",
       "    <tr>\n",
       "      <th>1</th>\n",
       "      <td>2</td>\n",
       "      <td>20</td>\n",
       "      <td>RL</td>\n",
       "      <td>80.0</td>\n",
       "      <td>9600</td>\n",
       "      <td>Pave</td>\n",
       "      <td>NaN</td>\n",
       "      <td>Reg</td>\n",
       "      <td>Lvl</td>\n",
       "      <td>AllPub</td>\n",
       "      <td>...</td>\n",
       "      <td>NaN</td>\n",
       "      <td>NaN</td>\n",
       "      <td>NaN</td>\n",
       "      <td>0</td>\n",
       "      <td>5</td>\n",
       "      <td>2007</td>\n",
       "      <td>WD</td>\n",
       "      <td>Normal</td>\n",
       "      <td>181500</td>\n",
       "      <td>2524</td>\n",
       "    </tr>\n",
       "    <tr>\n",
       "      <th>2</th>\n",
       "      <td>3</td>\n",
       "      <td>60</td>\n",
       "      <td>RL</td>\n",
       "      <td>68.0</td>\n",
       "      <td>11250</td>\n",
       "      <td>Pave</td>\n",
       "      <td>NaN</td>\n",
       "      <td>IR1</td>\n",
       "      <td>Lvl</td>\n",
       "      <td>AllPub</td>\n",
       "      <td>...</td>\n",
       "      <td>NaN</td>\n",
       "      <td>NaN</td>\n",
       "      <td>NaN</td>\n",
       "      <td>0</td>\n",
       "      <td>9</td>\n",
       "      <td>2008</td>\n",
       "      <td>WD</td>\n",
       "      <td>Normal</td>\n",
       "      <td>223500</td>\n",
       "      <td>2706</td>\n",
       "    </tr>\n",
       "    <tr>\n",
       "      <th>3</th>\n",
       "      <td>4</td>\n",
       "      <td>70</td>\n",
       "      <td>RL</td>\n",
       "      <td>60.0</td>\n",
       "      <td>9550</td>\n",
       "      <td>Pave</td>\n",
       "      <td>NaN</td>\n",
       "      <td>IR1</td>\n",
       "      <td>Lvl</td>\n",
       "      <td>AllPub</td>\n",
       "      <td>...</td>\n",
       "      <td>NaN</td>\n",
       "      <td>NaN</td>\n",
       "      <td>NaN</td>\n",
       "      <td>0</td>\n",
       "      <td>2</td>\n",
       "      <td>2006</td>\n",
       "      <td>WD</td>\n",
       "      <td>Abnorml</td>\n",
       "      <td>140000</td>\n",
       "      <td>2473</td>\n",
       "    </tr>\n",
       "    <tr>\n",
       "      <th>4</th>\n",
       "      <td>5</td>\n",
       "      <td>60</td>\n",
       "      <td>RL</td>\n",
       "      <td>84.0</td>\n",
       "      <td>14260</td>\n",
       "      <td>Pave</td>\n",
       "      <td>NaN</td>\n",
       "      <td>IR1</td>\n",
       "      <td>Lvl</td>\n",
       "      <td>AllPub</td>\n",
       "      <td>...</td>\n",
       "      <td>NaN</td>\n",
       "      <td>NaN</td>\n",
       "      <td>NaN</td>\n",
       "      <td>0</td>\n",
       "      <td>12</td>\n",
       "      <td>2008</td>\n",
       "      <td>WD</td>\n",
       "      <td>Normal</td>\n",
       "      <td>250000</td>\n",
       "      <td>3343</td>\n",
       "    </tr>\n",
       "  </tbody>\n",
       "</table>\n",
       "<p>5 rows × 82 columns</p>\n",
       "</div>"
      ],
      "text/plain": [
       "   Id  MSSubClass MSZoning  LotFrontage  LotArea Street Alley LotShape   \n",
       "0   1          60       RL         65.0     8450   Pave   NaN      Reg  \\\n",
       "1   2          20       RL         80.0     9600   Pave   NaN      Reg   \n",
       "2   3          60       RL         68.0    11250   Pave   NaN      IR1   \n",
       "3   4          70       RL         60.0     9550   Pave   NaN      IR1   \n",
       "4   5          60       RL         84.0    14260   Pave   NaN      IR1   \n",
       "\n",
       "  LandContour Utilities  ... PoolQC Fence MiscFeature MiscVal MoSold YrSold   \n",
       "0         Lvl    AllPub  ...    NaN   NaN         NaN       0      2   2008  \\\n",
       "1         Lvl    AllPub  ...    NaN   NaN         NaN       0      5   2007   \n",
       "2         Lvl    AllPub  ...    NaN   NaN         NaN       0      9   2008   \n",
       "3         Lvl    AllPub  ...    NaN   NaN         NaN       0      2   2006   \n",
       "4         Lvl    AllPub  ...    NaN   NaN         NaN       0     12   2008   \n",
       "\n",
       "  SaleType  SaleCondition  SalePrice  TotalSF  \n",
       "0       WD         Normal     208500     2566  \n",
       "1       WD         Normal     181500     2524  \n",
       "2       WD         Normal     223500     2706  \n",
       "3       WD        Abnorml     140000     2473  \n",
       "4       WD         Normal     250000     3343  \n",
       "\n",
       "[5 rows x 82 columns]"
      ]
     },
     "execution_count": 12,
     "metadata": {},
     "output_type": "execute_result"
    }
   ],
   "source": [
    "data.head()"
   ]
  },
  {
   "cell_type": "code",
   "execution_count": 2,
   "metadata": {},
   "outputs": [],
   "source": [
    "# Feature engineering\n",
    "data['TotalSF'] = data['TotalBsmtSF'] + data['1stFlrSF'] + data['2ndFlrSF']\n",
    "\n",
    "# Define the features and target variable\n",
    "X = data[['GrLivArea', 'BedroomAbvGr', 'FullBath','TotalSF']]\n",
    "y = data['SalePrice']"
   ]
  },
  {
   "cell_type": "code",
   "execution_count": 10,
   "metadata": {},
   "outputs": [
    {
     "data": {
      "text/plain": [
       "GrLivArea       0\n",
       "BedroomAbvGr    0\n",
       "FullBath        0\n",
       "TotalSF         0\n",
       "dtype: int64"
      ]
     },
     "execution_count": 10,
     "metadata": {},
     "output_type": "execute_result"
    }
   ],
   "source": [
    "X.isnull().sum()"
   ]
  },
  {
   "cell_type": "code",
   "execution_count": 11,
   "metadata": {},
   "outputs": [
    {
     "data": {
      "text/plain": [
       "0"
      ]
     },
     "execution_count": 11,
     "metadata": {},
     "output_type": "execute_result"
    }
   ],
   "source": [
    "y.isnull().sum()"
   ]
  },
  {
   "cell_type": "code",
   "execution_count": 3,
   "metadata": {},
   "outputs": [],
   "source": [
    "\n",
    "# Split the data into training and testing sets\n",
    "\n",
    "X_train, X_test, y_train, y_test = train_test_split(X, y, test_size=0.2, random_state=42)"
   ]
  },
  {
   "cell_type": "code",
   "execution_count": 4,
   "metadata": {},
   "outputs": [
    {
     "data": {
      "text/html": [
       "<style>#sk-container-id-1 {color: black;background-color: white;}#sk-container-id-1 pre{padding: 0;}#sk-container-id-1 div.sk-toggleable {background-color: white;}#sk-container-id-1 label.sk-toggleable__label {cursor: pointer;display: block;width: 100%;margin-bottom: 0;padding: 0.3em;box-sizing: border-box;text-align: center;}#sk-container-id-1 label.sk-toggleable__label-arrow:before {content: \"▸\";float: left;margin-right: 0.25em;color: #696969;}#sk-container-id-1 label.sk-toggleable__label-arrow:hover:before {color: black;}#sk-container-id-1 div.sk-estimator:hover label.sk-toggleable__label-arrow:before {color: black;}#sk-container-id-1 div.sk-toggleable__content {max-height: 0;max-width: 0;overflow: hidden;text-align: left;background-color: #f0f8ff;}#sk-container-id-1 div.sk-toggleable__content pre {margin: 0.2em;color: black;border-radius: 0.25em;background-color: #f0f8ff;}#sk-container-id-1 input.sk-toggleable__control:checked~div.sk-toggleable__content {max-height: 200px;max-width: 100%;overflow: auto;}#sk-container-id-1 input.sk-toggleable__control:checked~label.sk-toggleable__label-arrow:before {content: \"▾\";}#sk-container-id-1 div.sk-estimator input.sk-toggleable__control:checked~label.sk-toggleable__label {background-color: #d4ebff;}#sk-container-id-1 div.sk-label input.sk-toggleable__control:checked~label.sk-toggleable__label {background-color: #d4ebff;}#sk-container-id-1 input.sk-hidden--visually {border: 0;clip: rect(1px 1px 1px 1px);clip: rect(1px, 1px, 1px, 1px);height: 1px;margin: -1px;overflow: hidden;padding: 0;position: absolute;width: 1px;}#sk-container-id-1 div.sk-estimator {font-family: monospace;background-color: #f0f8ff;border: 1px dotted black;border-radius: 0.25em;box-sizing: border-box;margin-bottom: 0.5em;}#sk-container-id-1 div.sk-estimator:hover {background-color: #d4ebff;}#sk-container-id-1 div.sk-parallel-item::after {content: \"\";width: 100%;border-bottom: 1px solid gray;flex-grow: 1;}#sk-container-id-1 div.sk-label:hover label.sk-toggleable__label {background-color: #d4ebff;}#sk-container-id-1 div.sk-serial::before {content: \"\";position: absolute;border-left: 1px solid gray;box-sizing: border-box;top: 0;bottom: 0;left: 50%;z-index: 0;}#sk-container-id-1 div.sk-serial {display: flex;flex-direction: column;align-items: center;background-color: white;padding-right: 0.2em;padding-left: 0.2em;position: relative;}#sk-container-id-1 div.sk-item {position: relative;z-index: 1;}#sk-container-id-1 div.sk-parallel {display: flex;align-items: stretch;justify-content: center;background-color: white;position: relative;}#sk-container-id-1 div.sk-item::before, #sk-container-id-1 div.sk-parallel-item::before {content: \"\";position: absolute;border-left: 1px solid gray;box-sizing: border-box;top: 0;bottom: 0;left: 50%;z-index: -1;}#sk-container-id-1 div.sk-parallel-item {display: flex;flex-direction: column;z-index: 1;position: relative;background-color: white;}#sk-container-id-1 div.sk-parallel-item:first-child::after {align-self: flex-end;width: 50%;}#sk-container-id-1 div.sk-parallel-item:last-child::after {align-self: flex-start;width: 50%;}#sk-container-id-1 div.sk-parallel-item:only-child::after {width: 0;}#sk-container-id-1 div.sk-dashed-wrapped {border: 1px dashed gray;margin: 0 0.4em 0.5em 0.4em;box-sizing: border-box;padding-bottom: 0.4em;background-color: white;}#sk-container-id-1 div.sk-label label {font-family: monospace;font-weight: bold;display: inline-block;line-height: 1.2em;}#sk-container-id-1 div.sk-label-container {text-align: center;}#sk-container-id-1 div.sk-container {/* jupyter's `normalize.less` sets `[hidden] { display: none; }` but bootstrap.min.css set `[hidden] { display: none !important; }` so we also need the `!important` here to be able to override the default hidden behavior on the sphinx rendered scikit-learn.org. See: https://github.com/scikit-learn/scikit-learn/issues/21755 */display: inline-block !important;position: relative;}#sk-container-id-1 div.sk-text-repr-fallback {display: none;}</style><div id=\"sk-container-id-1\" class=\"sk-top-container\"><div class=\"sk-text-repr-fallback\"><pre>Lasso(alpha=0.1)</pre><b>In a Jupyter environment, please rerun this cell to show the HTML representation or trust the notebook. <br />On GitHub, the HTML representation is unable to render, please try loading this page with nbviewer.org.</b></div><div class=\"sk-container\" hidden><div class=\"sk-item\"><div class=\"sk-estimator sk-toggleable\"><input class=\"sk-toggleable__control sk-hidden--visually\" id=\"sk-estimator-id-1\" type=\"checkbox\" checked><label for=\"sk-estimator-id-1\" class=\"sk-toggleable__label sk-toggleable__label-arrow\">Lasso</label><div class=\"sk-toggleable__content\"><pre>Lasso(alpha=0.1)</pre></div></div></div></div></div>"
      ],
      "text/plain": [
       "Lasso(alpha=0.1)"
      ]
     },
     "execution_count": 4,
     "metadata": {},
     "output_type": "execute_result"
    }
   ],
   "source": [
    "# Create a Lasso regression model with feature selection and regularization\n",
    "\n",
    "model = Lasso(alpha=0.1)\n",
    "model.fit(X_train, y_train)"
   ]
  },
  {
   "cell_type": "code",
   "execution_count": 5,
   "metadata": {},
   "outputs": [],
   "source": [
    "# Save the model\n",
    "joblib.dump(model, 'lasso_regression_model.joblib')\n",
    "\n",
    "# Load the model\n",
    "model = joblib.load('lasso_regression_model.joblib')"
   ]
  },
  {
   "cell_type": "code",
   "execution_count": 6,
   "metadata": {},
   "outputs": [],
   "source": [
    "# Predict the prices of houses in the test data\n",
    "prices = model.predict(X_test)"
   ]
  },
  {
   "cell_type": "code",
   "execution_count": 7,
   "metadata": {},
   "outputs": [
    {
     "name": "stdout",
     "output_type": "stream",
     "text": [
      "Predicted prices: [126982.51857905 300775.27842685 140129.57010568 198865.08023654\n",
      " 246809.61520904 107006.51308631 185137.1002684  174140.22875401\n",
      " 107006.51308631 140560.33979263 176160.29826274 100971.54056703\n",
      " 123252.73146797 215409.79431551 196762.41068846 138506.59032998\n",
      " 194773.7099327  148836.67649832 139041.81344794 207495.41633835\n",
      " 216990.17246948 180433.05245979 169602.3640171  128872.5742066\n",
      " 202441.81548112 190477.38204319 190265.48954741 119238.55808323\n",
      " 189888.91123435 210949.66630536 112689.41367361 229548.05320824\n",
      " 346728.36105063 131013.46667846 229187.46199766 136555.22270081\n",
      " 202668.93501866 192942.78973091 247758.96792439  75203.77271125\n",
      " 103994.56457204 232108.74895518 111667.34771543 284197.14675032\n",
      " 116751.9673361  205226.04046796 125661.23549881 112336.37661288\n",
      " 287958.81687578 154244.95118445 110854.40677701 239717.908896\n",
      " 104271.53132096 347621.89938764 136176.17301542 242984.96666699\n",
      " 193971.22524527 161631.05273627 129379.11530834  70740.57832806\n",
      "  92287.87734227 151273.85844486 252755.39866784 231134.50202138\n",
      " 246287.91061456 230300.21785218 126241.16017561 253483.61408356\n",
      " 114878.68642322 186746.27850666 116450.93541023 132952.54736977\n",
      " 105913.6991973  114439.20076968 344570.78426657 176373.62592602\n",
      " 278583.00602895 276217.05252735 138428.50361369 107998.87260596\n",
      " 109157.64644476 141631.00139297 135830.47474015  85533.15890056\n",
      " 133545.80485244 158747.81954198 225972.82010672 198050.16220361\n",
      " 136176.17301542 167452.81633433 212233.57482969 164420.89620776\n",
      " 112815.88066764 292514.47664914 228455.85576564 187054.15083962\n",
      " 186713.64442074 165179.91912306 230485.31011109 227325.79638319\n",
      " 232681.92164616 200985.76018546 308415.99283825 116742.05089278\n",
      " 191448.95190345 182316.79928684 121836.58695677 263133.92030698\n",
      " 117019.57889508 169947.80139811 101529.45578134 150123.75570002\n",
      " 123709.86786965 137696.49629966 206235.20434907 110367.70266245\n",
      " 124189.37192441 100493.30184522 146232.61429439 311975.118764\n",
      " 123021.00608555 136176.17301542 189037.74737215 159299.78772784\n",
      " 198846.36985667 109660.26102306 225088.62107659 110361.54847067\n",
      " 131604.40885963 170729.60483103 179889.17413092 292977.28672851\n",
      " 200930.57682939 147496.14602387  60521.75833224 239896.25196242\n",
      " 250446.308701   110061.67836153 232280.50430769 497233.35753798\n",
      " 295601.74030314 127802.12797067 190534.47551822 191541.29445103\n",
      " 125850.76034151 103081.41427544 205027.28327792 201412.84425963\n",
      " 106393.20325206 119238.55808323 136245.92486353 128694.17594714\n",
      " 329547.40133708 215527.28444871 124974.7063614  184486.71000073\n",
      " 180541.75473817 187192.05707764  80528.2883106  122881.76753902\n",
      " 176082.07692133 156672.39472329 230788.80374611 153337.36417947\n",
      " 146117.98483301 194580.62590126 220546.64409862 297880.60598858\n",
      " 355928.75237788 241230.0656845  268556.65440627 140725.56951812\n",
      " 141408.45316486 174935.83372437 313568.51217445 120751.83181584\n",
      " 143923.14469124 211169.80882949 156276.3922876  178421.63816197\n",
      " 177807.84371308 116784.57587577 109938.32883303 131547.37337098\n",
      " 228450.5658248  180060.82729843 230592.23491444 223170.34380839\n",
      " 213090.55877722 101917.16067764 154681.17918469 147203.96599691\n",
      " 148107.38556781 132988.26927443 223873.10785282 247507.28681275\n",
      " 189564.67903246 125599.33259703 203160.92351142 132027.06314335\n",
      " 235168.51239329 166693.98323719 129001.46148048 282714.56046803\n",
      " 189864.07220894 142095.40893054 234283.56229162 134548.13600844\n",
      " 182560.38497885 102432.22236516 210764.17296443 123581.78965368\n",
      " 133983.31963135 168722.70795681 187166.09144493 220505.59571245\n",
      " 157229.6017575  137625.66893674 150186.80176615 132599.58417848\n",
      " 102594.52034273 207203.10447961 219917.34026801 111927.35403206\n",
      " 207125.01776332 147125.87928063 131920.86386529 104982.31347227\n",
      " 140033.93205694 144456.05660824  79098.92417294 169472.16031777\n",
      " 119238.55808323 143996.76507642 214178.42451383 134590.28545566\n",
      " 191681.63405861 133741.51353371 239218.86675108 153546.98690359\n",
      "  94915.47392869 251856.74022454 204935.74501371 350609.47972741\n",
      " 191566.50901221 152677.18031107 158545.87313631 180865.00394708\n",
      " 125332.84764535 109203.12462138 179583.84980904 150637.26415198\n",
      " 153177.03151388  96090.15823123 133945.82223285 173082.63070932\n",
      " 126951.47426935 149795.50657221 181119.39177905 244808.41625155\n",
      " 272963.58991858 146189.23882419 104174.22406391 243386.19828785\n",
      " 241914.52043106 195823.40383802 203676.90054238 136176.17301542\n",
      " 138105.1729915  147229.006623   307825.05065708 208942.57961299\n",
      " 229517.40998056 103013.57254628 129370.61470615 118625.24824898\n",
      " 200726.45384787 280127.25430237 217909.14073207 159057.63164068\n",
      " 204373.10521246 107006.51308631 179402.28019821 108340.77898291\n",
      " 240159.53591595 210202.55069162 209987.89482036 143169.58008923\n",
      " 215688.58765076 167452.81633433 127764.19984337 100160.05067918]\n"
     ]
    }
   ],
   "source": [
    "print(\"Predicted prices:\", prices)"
   ]
  },
  {
   "cell_type": "code",
   "execution_count": 8,
   "metadata": {},
   "outputs": [
    {
     "name": "stdout",
     "output_type": "stream",
     "text": [
      "Actual prices: [154500 325000 115000 159000 315500  75500 311500 146000  84500 135500\n",
      " 145000 130000  81000 214000 181000 134500 183500 135000 118400 226000\n",
      " 155000 210000 173500 129000 192000 153900 181134 141000 181000 208900\n",
      " 127000 284000 200500 135750 255000 140000 138000 219500 310000  97000\n",
      " 114500 205000 119500 253293 128500 117500 115000 127000 451950 144000\n",
      " 119000 196000 115000 287000 144500 260000 213000 175000 107000 107500\n",
      "  68500 154000 317000 264132 283463 243000 109000 305000  93500 176000\n",
      " 118858 134000 109008  93500 611657 173000 348000 341000 141000 124900\n",
      " 118000  67000 113000  91300 149500 133000 266000 190000 155900 155835\n",
      " 153500 152000 124500 301000 136500 169990 205000 183900 204900 260000\n",
      " 163500 224900 244000 132000 194000 156500 156000 275000 145000 135000\n",
      "  60000 124000 127000 137500 213500 119000 107900 123000 112000 284000\n",
      " 133000 149000 169000 207000 175000 137000 236000  79500 144000 162900\n",
      " 185900 369900 197900 104000  35311 337500 367294 130250 230000 755000\n",
      " 403000 132000 178000 136500 145000 123000 250000 187100 133900  67000\n",
      " 137500 155000 200624 154300  91000 136000 108959 140000  86000 131400\n",
      " 179900 144000 293077 144500 118500 141000 239000 276000 556581 244400\n",
      " 360000 103200 102000 151000 285000 134432 113000 187500 125500 177500\n",
      " 179900  55993 132500 135000 255000 140000 271000 246578 202500  75000\n",
      " 122500 108480 160000 171000 196000 225000 197000  40000 172500 154900\n",
      " 280000 175000 147000 315000 185000 135500 239500 139000 140000 110000\n",
      " 225000 143500 128950 172500 241500 262500 194201 143000 130000 126000\n",
      " 142500 254000 217500  66500 201000 155000  68400  64500 173000 102776\n",
      "  84900 165600 120000 135000 220000 153575 195400 147000 277000 143000\n",
      " 105900 242000 194500 438780 185000 107500 165000 176000 129900 115000\n",
      " 192140 160000 145000  86000 158000 127500 115000 119500 175900 240000\n",
      " 395000 165000 128200 275000 311872 214000 153500 144000 115000 180000\n",
      " 465000 180000 253000  85000 101800 148500 137500 318061 143000 140000\n",
      " 192500  92000 197000 109500 297000 185750 230000  89471 260000 189000\n",
      " 108000 124500]\n"
     ]
    }
   ],
   "source": [
    "print(\"Actual prices:\", y_test.values)"
   ]
  },
  {
   "cell_type": "code",
   "execution_count": 9,
   "metadata": {},
   "outputs": [
    {
     "name": "stdout",
     "output_type": "stream",
     "text": [
      "R-squared score: 0.7233280277960107\n"
     ]
    }
   ],
   "source": [
    "print(\"R-squared score:\", r2_score(y_test, prices))"
   ]
  },
  {
   "cell_type": "code",
   "execution_count": null,
   "metadata": {},
   "outputs": [],
   "source": []
  }
 ],
 "metadata": {
  "kernelspec": {
   "display_name": "Python 3",
   "language": "python",
   "name": "python3"
  },
  "language_info": {
   "codemirror_mode": {
    "name": "ipython",
    "version": 3
   },
   "file_extension": ".py",
   "mimetype": "text/x-python",
   "name": "python",
   "nbconvert_exporter": "python",
   "pygments_lexer": "ipython3",
   "version": "3.11.2"
  },
  "orig_nbformat": 4
 },
 "nbformat": 4,
 "nbformat_minor": 2

}
